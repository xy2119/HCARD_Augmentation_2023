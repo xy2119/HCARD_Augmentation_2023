{
  "cells": [
    {
      "cell_type": "markdown",
      "metadata": {
        "id": "view-in-github",
        "colab_type": "text"
      },
      "source": [
        "<a href=\"https://colab.research.google.com/github/xy2119/HCARD_Augmentation_2023/blob/main/Track_Aruco_Tag.ipynb\" target=\"_parent\"><img src=\"https://colab.research.google.com/assets/colab-badge.svg\" alt=\"Open In Colab\"/></a>"
      ]
    },
    {
      "cell_type": "code",
      "execution_count": null,
      "id": "3f0be729",
      "metadata": {
        "id": "3f0be729",
        "outputId": "57171569-2086-4ad8-bf17-6750440a7b01",
        "colab": {
          "base_uri": "https://localhost:8080/"
        }
      },
      "outputs": [
        {
          "output_type": "stream",
          "name": "stdout",
          "text": [
            "Looking in indexes: https://pypi.org/simple, https://us-python.pkg.dev/colab-wheels/public/simple/\n",
            "Requirement already satisfied: imutils in /usr/local/lib/python3.9/dist-packages (0.5.4)\n"
          ]
        }
      ],
      "source": [
        "!pip install imutils"
      ]
    },
    {
      "cell_type": "code",
      "source": [
        "## Finger Tracking\n",
        "!pip install mediapipe\n",
        "!pip install opencv-python --user\n",
        "!pip install cvzone\n",
        "!pip install python-osc"
      ],
      "metadata": {
        "colab": {
          "base_uri": "https://localhost:8080/"
        },
        "id": "jH3UmIJoACJl",
        "outputId": "d9a55eda-09c2-4212-f3b3-dc59fbc31eb3"
      },
      "id": "jH3UmIJoACJl",
      "execution_count": null,
      "outputs": [
        {
          "output_type": "stream",
          "name": "stdout",
          "text": [
            "Looking in indexes: https://pypi.org/simple, https://us-python.pkg.dev/colab-wheels/public/simple/\n",
            "Collecting mediapipe\n",
            "  Downloading mediapipe-0.9.1.0-cp39-cp39-manylinux_2_17_x86_64.manylinux2014_x86_64.whl (33.0 MB)\n",
            "\u001b[2K     \u001b[90m━━━━━━━━━━━━━━━━━━━━━━━━━━━━━━━━━━━━━━━━\u001b[0m \u001b[32m33.0/33.0 MB\u001b[0m \u001b[31m28.1 MB/s\u001b[0m eta \u001b[36m0:00:00\u001b[0m\n",
            "\u001b[?25hRequirement already satisfied: flatbuffers>=2.0 in /usr/local/lib/python3.9/dist-packages (from mediapipe) (23.3.3)\n",
            "Requirement already satisfied: attrs>=19.1.0 in /usr/local/lib/python3.9/dist-packages (from mediapipe) (22.2.0)\n",
            "Requirement already satisfied: numpy in /usr/local/lib/python3.9/dist-packages (from mediapipe) (1.22.4)\n",
            "Requirement already satisfied: protobuf<4,>=3.11 in /usr/local/lib/python3.9/dist-packages (from mediapipe) (3.19.6)\n",
            "Requirement already satisfied: opencv-contrib-python in /usr/local/lib/python3.9/dist-packages (from mediapipe) (4.6.0.66)\n",
            "Requirement already satisfied: matplotlib in /usr/local/lib/python3.9/dist-packages (from mediapipe) (3.7.1)\n",
            "Requirement already satisfied: absl-py in /usr/local/lib/python3.9/dist-packages (from mediapipe) (1.4.0)\n",
            "Requirement already satisfied: python-dateutil>=2.7 in /usr/local/lib/python3.9/dist-packages (from matplotlib->mediapipe) (2.8.2)\n",
            "Requirement already satisfied: fonttools>=4.22.0 in /usr/local/lib/python3.9/dist-packages (from matplotlib->mediapipe) (4.39.0)\n",
            "Requirement already satisfied: packaging>=20.0 in /usr/local/lib/python3.9/dist-packages (from matplotlib->mediapipe) (23.0)\n",
            "Requirement already satisfied: contourpy>=1.0.1 in /usr/local/lib/python3.9/dist-packages (from matplotlib->mediapipe) (1.0.7)\n",
            "Requirement already satisfied: pillow>=6.2.0 in /usr/local/lib/python3.9/dist-packages (from matplotlib->mediapipe) (8.4.0)\n",
            "Requirement already satisfied: importlib-resources>=3.2.0 in /usr/local/lib/python3.9/dist-packages (from matplotlib->mediapipe) (5.12.0)\n",
            "Requirement already satisfied: pyparsing>=2.3.1 in /usr/local/lib/python3.9/dist-packages (from matplotlib->mediapipe) (3.0.9)\n",
            "Requirement already satisfied: cycler>=0.10 in /usr/local/lib/python3.9/dist-packages (from matplotlib->mediapipe) (0.11.0)\n",
            "Requirement already satisfied: kiwisolver>=1.0.1 in /usr/local/lib/python3.9/dist-packages (from matplotlib->mediapipe) (1.4.4)\n",
            "Requirement already satisfied: zipp>=3.1.0 in /usr/local/lib/python3.9/dist-packages (from importlib-resources>=3.2.0->matplotlib->mediapipe) (3.15.0)\n",
            "Requirement already satisfied: six>=1.5 in /usr/local/lib/python3.9/dist-packages (from python-dateutil>=2.7->matplotlib->mediapipe) (1.15.0)\n",
            "Installing collected packages: mediapipe\n",
            "Successfully installed mediapipe-0.9.1.0\n",
            "Looking in indexes: https://pypi.org/simple, https://us-python.pkg.dev/colab-wheels/public/simple/\n",
            "Collecting cvzone\n",
            "  Downloading cvzone-1.5.6.tar.gz (12 kB)\n",
            "  Preparing metadata (setup.py) ... \u001b[?25l\u001b[?25hdone\n",
            "Requirement already satisfied: opencv-python in /usr/local/lib/python3.9/dist-packages (from cvzone) (4.6.0.66)\n",
            "Requirement already satisfied: numpy in /usr/local/lib/python3.9/dist-packages (from cvzone) (1.22.4)\n",
            "Building wheels for collected packages: cvzone\n",
            "  Building wheel for cvzone (setup.py) ... \u001b[?25l\u001b[?25hdone\n",
            "  Created wheel for cvzone: filename=cvzone-1.5.6-py3-none-any.whl size=18766 sha256=3bc8412e914a40bf2bccb7996bee0675811a666ca6a405d02b0fb40d5d63e1f8\n",
            "  Stored in directory: /root/.cache/pip/wheels/6f/ec/e5/c576c2f2fa138207498bbbfc8eefb1f0a2efbba7c847742948\n",
            "Successfully built cvzone\n",
            "Installing collected packages: cvzone\n",
            "Successfully installed cvzone-1.5.6\n",
            "Looking in indexes: https://pypi.org/simple, https://us-python.pkg.dev/colab-wheels/public/simple/\n",
            "Collecting python-osc\n",
            "  Downloading python_osc-1.8.1-py3-none-any.whl (32 kB)\n",
            "Installing collected packages: python-osc\n",
            "Successfully installed python-osc-1.8.1\n"
          ]
        }
      ]
    },
    {
      "cell_type": "code",
      "source": [
        "!pip install python-osc"
      ],
      "metadata": {
        "id": "w6el8V7XAVdk",
        "outputId": "969ce58e-dd31-4233-b2c5-70c74995377b",
        "colab": {
          "base_uri": "https://localhost:8080/"
        }
      },
      "id": "w6el8V7XAVdk",
      "execution_count": null,
      "outputs": [
        {
          "output_type": "stream",
          "name": "stdout",
          "text": [
            "Looking in indexes: https://pypi.org/simple, https://us-python.pkg.dev/colab-wheels/public/simple/\n",
            "Requirement already satisfied: python-osc in /usr/local/lib/python3.9/dist-packages (1.8.1)\n"
          ]
        }
      ]
    },
    {
      "cell_type": "code",
      "source": [
        "from pythonosc import udp_client\n",
        "# parameters for OSC communication\n",
        "ip = \"146.169.148.46\"\n",
        "port = 7000\n",
        "address = \"/mouse/position\"\n",
        "\n",
        "address_2 = \"/gripper/button/state\"\n",
        "\n",
        "\n",
        "print(\"The ip of the OSC server:\" + ip)\n",
        "print(\"The port the OSC server is listening on:\" + ip)\n",
        "\n",
        "args = {'ip': ip, \"port\": port}\n",
        "client = udp_client.SimpleUDPClient(args[\"ip\"], args[\"port\"])"
      ],
      "metadata": {
        "colab": {
          "base_uri": "https://localhost:8080/"
        },
        "id": "kLByYNDM_W5_",
        "outputId": "d6b09e7e-c3cb-479e-d4b3-469289c94656"
      },
      "id": "kLByYNDM_W5_",
      "execution_count": null,
      "outputs": [
        {
          "output_type": "stream",
          "name": "stdout",
          "text": [
            "The ip of the OSC server:146.169.148.46\n",
            "The port the OSC server is listening on:146.169.148.46\n"
          ]
        }
      ]
    },
    {
      "cell_type": "code",
      "execution_count": null,
      "id": "eb645cee",
      "metadata": {
        "id": "eb645cee",
        "outputId": "a1216471-6527-433b-d04e-3193a2066887"
      },
      "outputs": [
        {
          "name": "stdout",
          "output_type": "stream",
          "text": [
            "[INFO] generating ArUCo tag type 'DICT_ARUCO_ORIGINAL' with ID '0'\n"
          ]
        },
        {
          "data": {
            "text/plain": [
              "<function imshow>"
            ]
          },
          "execution_count": 14,
          "metadata": {},
          "output_type": "execute_result"
        }
      ],
      "source": [
        "# create Aruco Tags\n",
        "import numpy as np\n",
        "import cv2\n",
        "import sys\n",
        "\n",
        "# define names of each possible ArUco tag OpenCV supports\n",
        "ARUCO_DICT = {\n",
        "    \"DICT_4X4_50\": cv2.aruco.DICT_4X4_50,\n",
        "    \"DICT_4X4_100\": cv2.aruco.DICT_4X4_100,\n",
        "    \"DICT_4X4_250\": cv2.aruco.DICT_4X4_250,\n",
        "    \"DICT_4X4_1000\": cv2.aruco.DICT_4X4_1000,\n",
        "    \"DICT_5X5_50\": cv2.aruco.DICT_5X5_50,\n",
        "    \"DICT_5X5_100\": cv2.aruco.DICT_5X5_100,\n",
        "    \"DICT_5X5_250\": cv2.aruco.DICT_5X5_250,\n",
        "    \"DICT_5X5_1000\": cv2.aruco.DICT_5X5_1000,\n",
        "    \"DICT_6X6_50\": cv2.aruco.DICT_6X6_50,\n",
        "    \"DICT_6X6_100\": cv2.aruco.DICT_6X6_100,\n",
        "    \"DICT_6X6_250\": cv2.aruco.DICT_6X6_250,\n",
        "    \"DICT_6X6_1000\": cv2.aruco.DICT_6X6_1000,\n",
        "    \"DICT_7X7_50\": cv2.aruco.DICT_7X7_50,\n",
        "    \"DICT_7X7_100\": cv2.aruco.DICT_7X7_100,\n",
        "    \"DICT_7X7_250\": cv2.aruco.DICT_7X7_250,\n",
        "    \"DICT_7X7_1000\": cv2.aruco.DICT_7X7_1000,\n",
        "    \"DICT_ARUCO_ORIGINAL\": cv2.aruco.DICT_ARUCO_ORIGINAL,\n",
        "}\n",
        "\n",
        "# set the values for the command-line arguments\n",
        "args = {\n",
        "    \"output\": \"ARUCO_ORIGINAL.png\",\n",
        "    \"id\": 0,\n",
        "    \"type\": \"DICT_ARUCO_ORIGINAL\"\n",
        "}\n",
        "\n",
        "# verify that the supplied ArUCo tag exists and is supported by\n",
        "# OpenCV\n",
        "if ARUCO_DICT.get(args[\"type\"], None) is None:\n",
        "    print(\"[INFO] ArUCo tag of '{}' is not supported\".format(\n",
        "        args[\"type\"]))\n",
        "    sys.exit(0)\n",
        "\n",
        "# load the ArUCo dictionary\n",
        "arucoDict = cv2.aruco.Dictionary_get(ARUCO_DICT[args[\"type\"]])\n",
        "\n",
        "# allocate memory for the output ArUCo tag and then draw the ArUCo\n",
        "# tag on the output image\n",
        "print(\"[INFO] generating ArUCo tag type '{}' with ID '{}'\".format(\n",
        "    args[\"type\"], args[\"id\"]))\n",
        "tag = np.zeros((300, 300, 1), dtype=\"uint8\")\n",
        "cv2.aruco.drawMarker(arucoDict, args[\"id\"], 300, tag, 1)\n",
        "\n",
        "# write the generated ArUCo tag to disk and then display it to our\n",
        "# screen\n",
        "cv2.imwrite(args[\"output\"], tag)\n",
        "cv2.imshow\n"
      ]
    },
    {
      "cell_type": "code",
      "execution_count": null,
      "id": "f2c70ae0",
      "metadata": {
        "id": "f2c70ae0",
        "outputId": "cf1fc88c-e504-4c06-e63b-b2bcb25e380e",
        "colab": {
          "base_uri": "https://localhost:8080/",
          "height": 786
        }
      },
      "outputs": [
        {
          "output_type": "error",
          "ename": "ModuleNotFoundError",
          "evalue": "ignored",
          "traceback": [
            "\u001b[0;31m---------------------------------------------------------------------------\u001b[0m",
            "\u001b[0;31mModuleNotFoundError\u001b[0m                       Traceback (most recent call last)",
            "\u001b[0;32m<ipython-input-3-afc5b88e9e76>\u001b[0m in \u001b[0;36m<module>\u001b[0;34m\u001b[0m\n\u001b[0;32m----> 1\u001b[0;31m \u001b[0;32mfrom\u001b[0m \u001b[0mpythonosc\u001b[0m \u001b[0;32mimport\u001b[0m \u001b[0mudp_client\u001b[0m\u001b[0;34m\u001b[0m\u001b[0;34m\u001b[0m\u001b[0m\n\u001b[0m\u001b[1;32m      2\u001b[0m \u001b[0;31m# parameters for OSC communication\u001b[0m\u001b[0;34m\u001b[0m\u001b[0;34m\u001b[0m\u001b[0m\n\u001b[1;32m      3\u001b[0m \u001b[0mip\u001b[0m \u001b[0;34m=\u001b[0m \u001b[0;34m\"146.169.148.46\"\u001b[0m\u001b[0;34m\u001b[0m\u001b[0;34m\u001b[0m\u001b[0m\n\u001b[1;32m      4\u001b[0m \u001b[0mport\u001b[0m \u001b[0;34m=\u001b[0m \u001b[0;36m7000\u001b[0m\u001b[0;34m\u001b[0m\u001b[0;34m\u001b[0m\u001b[0m\n\u001b[1;32m      5\u001b[0m \u001b[0maddress\u001b[0m \u001b[0;34m=\u001b[0m \u001b[0;34m\"/mouse/position\"\u001b[0m\u001b[0;34m\u001b[0m\u001b[0;34m\u001b[0m\u001b[0m\n",
            "\u001b[0;31mModuleNotFoundError\u001b[0m: No module named 'pythonosc'",
            "",
            "\u001b[0;31m---------------------------------------------------------------------------\u001b[0;32m\nNOTE: If your import is failing due to a missing package, you can\nmanually install dependencies using either !pip or !apt.\n\nTo view examples of installing some common dependencies, click the\n\"Open Examples\" button below.\n\u001b[0;31m---------------------------------------------------------------------------\u001b[0m\n"
          ],
          "errorDetails": {
            "actions": [
              {
                "action": "open_url",
                "actionText": "Open Examples",
                "url": "/notebooks/snippets/importing_libraries.ipynb"
              }
            ]
          }
        },
        {
          "output_type": "stream",
          "name": "stdout",
          "text": [
            "[INFO] detecting 'DICT_6X6_250' tags...\n",
            "[INFO] starting video stream...\n"
          ]
        },
        {
          "output_type": "error",
          "ename": "AttributeError",
          "evalue": "ignored",
          "traceback": [
            "\u001b[0;31m---------------------------------------------------------------------------\u001b[0m",
            "\u001b[0;31mAttributeError\u001b[0m                            Traceback (most recent call last)",
            "\u001b[0;32m<ipython-input-7-58f2d7a3a118>\u001b[0m in \u001b[0;36m<module>\u001b[0;34m\u001b[0m\n\u001b[1;32m     62\u001b[0m         \u001b[0;31m# to have a maximum width of 600 pixels\u001b[0m\u001b[0;34m\u001b[0m\u001b[0;34m\u001b[0m\u001b[0m\n\u001b[1;32m     63\u001b[0m         \u001b[0mframe\u001b[0m \u001b[0;34m=\u001b[0m \u001b[0mvs\u001b[0m\u001b[0;34m.\u001b[0m\u001b[0mread\u001b[0m\u001b[0;34m(\u001b[0m\u001b[0;34m)\u001b[0m\u001b[0;34m\u001b[0m\u001b[0;34m\u001b[0m\u001b[0m\n\u001b[0;32m---> 64\u001b[0;31m         \u001b[0mframe\u001b[0m \u001b[0;34m=\u001b[0m \u001b[0mimutils\u001b[0m\u001b[0;34m.\u001b[0m\u001b[0mresize\u001b[0m\u001b[0;34m(\u001b[0m\u001b[0mframe\u001b[0m\u001b[0;34m,\u001b[0m \u001b[0mwidth\u001b[0m\u001b[0;34m=\u001b[0m\u001b[0;36m1000\u001b[0m\u001b[0;34m)\u001b[0m\u001b[0;34m\u001b[0m\u001b[0;34m\u001b[0m\u001b[0m\n\u001b[0m\u001b[1;32m     65\u001b[0m         \u001b[0;31m#frame = cv2.flip(frame, 1)\u001b[0m\u001b[0;34m\u001b[0m\u001b[0;34m\u001b[0m\u001b[0m\n\u001b[1;32m     66\u001b[0m \u001b[0;34m\u001b[0m\u001b[0m\n",
            "\u001b[0;32m/usr/local/lib/python3.9/dist-packages/imutils/convenience.py\u001b[0m in \u001b[0;36mresize\u001b[0;34m(image, width, height, inter)\u001b[0m\n\u001b[1;32m     67\u001b[0m     \u001b[0;31m# grab the image size\u001b[0m\u001b[0;34m\u001b[0m\u001b[0;34m\u001b[0m\u001b[0m\n\u001b[1;32m     68\u001b[0m     \u001b[0mdim\u001b[0m \u001b[0;34m=\u001b[0m \u001b[0;32mNone\u001b[0m\u001b[0;34m\u001b[0m\u001b[0;34m\u001b[0m\u001b[0m\n\u001b[0;32m---> 69\u001b[0;31m     \u001b[0;34m(\u001b[0m\u001b[0mh\u001b[0m\u001b[0;34m,\u001b[0m \u001b[0mw\u001b[0m\u001b[0;34m)\u001b[0m \u001b[0;34m=\u001b[0m \u001b[0mimage\u001b[0m\u001b[0;34m.\u001b[0m\u001b[0mshape\u001b[0m\u001b[0;34m[\u001b[0m\u001b[0;34m:\u001b[0m\u001b[0;36m2\u001b[0m\u001b[0;34m]\u001b[0m\u001b[0;34m\u001b[0m\u001b[0;34m\u001b[0m\u001b[0m\n\u001b[0m\u001b[1;32m     70\u001b[0m \u001b[0;34m\u001b[0m\u001b[0m\n\u001b[1;32m     71\u001b[0m     \u001b[0;31m# if both the width and height are None, then return the\u001b[0m\u001b[0;34m\u001b[0m\u001b[0;34m\u001b[0m\u001b[0m\n",
            "\u001b[0;31mAttributeError\u001b[0m: 'NoneType' object has no attribute 'shape'"
          ]
        }
      ],
      "source": [
        "# Detect Aruco Tags\n",
        "%tb\n",
        "from imutils.video import VideoStream\n",
        "import argparse\n",
        "import imutils\n",
        "import time\n",
        "import cv2\n",
        "import sys\n",
        "\n",
        "# construct the argument parser and parse the arguments\n",
        " \n",
        "args = {\n",
        "    \"output\": \"6X6_250_0.png\",\n",
        "    \"id\": 0,\n",
        "    \"type\": \"DICT_6X6_250\"\n",
        "}\n",
        "# define names of each possible ArUco tag OpenCV supports\n",
        "ARUCO_DICT = {\n",
        "\t\"DICT_4X4_50\": cv2.aruco.DICT_4X4_50,\n",
        "\t\"DICT_4X4_100\": cv2.aruco.DICT_4X4_100,\n",
        "\t\"DICT_4X4_250\": cv2.aruco.DICT_4X4_250,\n",
        "\t\"DICT_4X4_1000\": cv2.aruco.DICT_4X4_1000,\n",
        "\t\"DICT_5X5_50\": cv2.aruco.DICT_5X5_50,\n",
        "\t\"DICT_5X5_100\": cv2.aruco.DICT_5X5_100,\n",
        "\t\"DICT_5X5_250\": cv2.aruco.DICT_5X5_250,\n",
        "\t\"DICT_5X5_1000\": cv2.aruco.DICT_5X5_1000,\n",
        "\t\"DICT_6X6_50\": cv2.aruco.DICT_6X6_50,\n",
        "\t\"DICT_6X6_100\": cv2.aruco.DICT_6X6_100,\n",
        "\t\"DICT_6X6_250\": cv2.aruco.DICT_6X6_250,\n",
        "\t\"DICT_6X6_1000\": cv2.aruco.DICT_6X6_1000,\n",
        "\t\"DICT_7X7_50\": cv2.aruco.DICT_7X7_50,\n",
        "\t\"DICT_7X7_100\": cv2.aruco.DICT_7X7_100,\n",
        "\t\"DICT_7X7_250\": cv2.aruco.DICT_7X7_250,\n",
        "\t\"DICT_7X7_1000\": cv2.aruco.DICT_7X7_1000,\n",
        "\t\"DICT_ARUCO_ORIGINAL\": cv2.aruco.DICT_ARUCO_ORIGINAL,\n",
        "#\t\"DICT_APRILTAG_16h5\": cv2.aruco.DICT_APRILTAG_16h5,\n",
        "#\t\"DICT_APRILTAG_25h9\": cv2.aruco.DICT_APRILTAG_25h9,\n",
        "#\t\"DICT_APRILTAG_36h10\": cv2.aruco.DICT_APRILTAG_36h10,\n",
        "#\t\"DICT_APRILTAG_36h11\": cv2.aruco.DICT_APRILTAG_36h11\n",
        "}\n",
        "\n",
        "# verify that the supplied ArUCo tag exists and is supported by\n",
        "# OpenCV\n",
        "if ARUCO_DICT.get(args[\"type\"], None) is None:\n",
        "\tprint(\"[INFO] ArUCo tag of '{}' is not supported\".format(\n",
        "\t\targs[\"type\"]))\n",
        "\tsys.exit(0)\n",
        "\n",
        "# load the ArUCo dictionary and grab the ArUCo parameters\n",
        "print(\"[INFO] detecting '{}' tags...\".format(args[\"type\"]))\n",
        "arucoDict = cv2.aruco.Dictionary_get(ARUCO_DICT[args[\"type\"]])\n",
        "arucoParams = cv2.aruco.DetectorParameters_create()\n",
        "\n",
        "# initialize the video stream and allow the camera sensor to warm up\n",
        "print(\"[INFO] starting video stream...\")\n",
        "vs = VideoStream(src=0).start()\n",
        "time.sleep(2.0)\n",
        "\n",
        "# loop over the frames from the video stream\n",
        "while True:\n",
        "\t# grab the frame from the threaded video stream and resize it\n",
        "\t# to have a maximum width of 600 pixels\n",
        "\tframe = vs.read()\n",
        "\tframe = imutils.resize(frame, width=1000)\n",
        "\t#frame = cv2.flip(frame, 1)\n",
        "    \n",
        "\t# detect ArUco markers in the input frame\n",
        "\t(corners, ids, rejected) = cv2.aruco.detectMarkers(frame,\n",
        "\t\tarucoDict, parameters=arucoParams)\n",
        "\n",
        "\t# verify *at least* one ArUco marker was detected\n",
        "\tif len(corners) > 0:\n",
        "\t\t# flatten the ArUco IDs list\n",
        "\t\tids = ids.flatten()\n",
        "\n",
        "\t\t# loop over the detected ArUCo corners\n",
        "\t\tfor (markerCorner, markerID) in zip(corners, ids):\n",
        "\t\t\t# extract the marker corners (which are always returned\n",
        "\t\t\t# in top-left, top-right, bottom-right, and bottom-left\n",
        "\t\t\t# order)\n",
        "\t\t\tcorners = markerCorner.reshape((4, 2))\n",
        "\t\t\t(topLeft, topRight, bottomRight, bottomLeft) = corners\n",
        "\n",
        "\t\t\t# convert each of the (x, y)-coordinate pairs to integers\n",
        "\t\t\ttopRight = (int(topRight[0]), int(topRight[1]))\n",
        "\t\t\tbottomRight = (int(bottomRight[0]), int(bottomRight[1]))\n",
        "\t\t\tbottomLeft = (int(bottomLeft[0]), int(bottomLeft[1]))\n",
        "\t\t\ttopLeft = (int(topLeft[0]), int(topLeft[1]))\n",
        "\n",
        "\t\t\t# draw the bounding box of the ArUCo detection\n",
        "\t\t\tcv2.line(frame, topLeft, topRight, (0, 255, 0), 2)\n",
        "\t\t\tcv2.line(frame, topRight, bottomRight, (0, 255, 0), 2)\n",
        "\t\t\tcv2.line(frame, bottomRight, bottomLeft, (0, 255, 0), 2)\n",
        "\t\t\tcv2.line(frame, bottomLeft, topLeft, (0, 255, 0), 2)\n",
        "\n",
        "\t\t\t# compute and draw the center (x, y)-coordinates of the\n",
        "\t\t\t# ArUco marker\n",
        "\t\t\tcX = int((topLeft[0] + bottomRight[0]) / 2.0)\n",
        "\t\t\tcY = int((topLeft[1] + bottomRight[1]) / 2.0)\n",
        "\t\t\tcv2.circle(frame, (cX, cY), 4, (0, 0, 255), -1)\n",
        "\t\t\t# print the detected position of the ArUco marker\n",
        "\t\t\tprint(\"Detected ArUco Marker ID {} at position ({}, {})\".format(markerID, cX, cY))\n",
        "\t\t\t# send udp\n",
        "\t\t\tmouse_xy = [float(cX),float(cY)] # send a single desired position to Unity\n",
        "\t\t\tclient.send_message(address, mouse_xy)\n",
        "\t\t\t#save_index_positions(positions[8])\n",
        "\t\t\t\t# draw the ArUco marker ID on the frame\n",
        "\t\t\tcv2.putText(frame, str(markerID),\n",
        "\t\t\t\t(topLeft[0], topLeft[1] - 15),\n",
        "\t\t\t\tcv2.FONT_HERSHEY_SIMPLEX,\n",
        "\t\t\t\t0.5, (0, 255, 0), 2)\n",
        "\n",
        "\t# show the output frame\n",
        "\tcv2.imshow(\"Frame\", frame)\n",
        "\tkey = cv2.waitKey(1) & 0xFF\n",
        "\n",
        "\t# if the `q` key was pressed, break from the loop\n",
        "\tif key == ord(\"q\"):\n",
        "\t\tbreak\n",
        "\n",
        "# do a bit of cleanup\n",
        "cv2.destroyAllWindows()\n",
        "vs.stop()"
      ]
    },
    {
      "cell_type": "code",
      "execution_count": null,
      "id": "ae520a60",
      "metadata": {
        "id": "ae520a60"
      },
      "outputs": [],
      "source": []
    }
  ],
  "metadata": {
    "kernelspec": {
      "display_name": "Python 3 (ipykernel)",
      "language": "python",
      "name": "python3"
    },
    "language_info": {
      "codemirror_mode": {
        "name": "ipython",
        "version": 3
      },
      "file_extension": ".py",
      "mimetype": "text/x-python",
      "name": "python",
      "nbconvert_exporter": "python",
      "pygments_lexer": "ipython3",
      "version": "3.9.7"
    },
    "colab": {
      "provenance": [],
      "include_colab_link": true
    }
  },
  "nbformat": 4,
  "nbformat_minor": 5
}